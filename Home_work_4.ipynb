{
 "cells": [
  {
   "cell_type": "code",
   "execution_count": 1,
   "metadata": {
    "collapsed": true
   },
   "outputs": [],
   "source": [
    "'''1)\n",
    "p = Person()\n",
    "p.get_name() -> Vasya\n",
    "p.get_age() -> 28\n",
    "\n",
    "p2 = Person(\"Petya\", 29)\n",
    "p2.get_name() -> Petya\n",
    "p2.get_age() -> 29\n",
    "\n",
    "Ключевые слова - python, параметры по умолчанию'''\n",
    "\n",
    "\n",
    "class Person1:\n",
    "    def __init__(self, name='Vasya', age = 28):\n",
    "        self.name = name\n",
    "        self.age = age\n",
    "    \n",
    "    def __repr__(self):\n",
    "        return \"Person1(\\\"{}\\\", {})\".format(self.name, self.age)\n",
    "    \n",
    "    def __str__(self):\n",
    "        return \"Name: {}, Age: {}\".format(self.name, self.age)\n",
    "        \n",
    "    def get_name(self):\n",
    "        return self.name\n",
    "    \n",
    "    def set_name(self, name):\n",
    "        self.name = name\n",
    "    \n",
    "    def get_age(self):\n",
    "        return self.age"
   ]
  },
  {
   "cell_type": "code",
   "execution_count": 6,
   "metadata": {
    "collapsed": false
   },
   "outputs": [
    {
     "data": {
      "text/plain": [
       "'Vasya'"
      ]
     },
     "execution_count": 6,
     "metadata": {},
     "output_type": "execute_result"
    }
   ],
   "source": [
    "p1 = Person1()\n",
    "p2 = Person1('Petya', 29)\n",
    "p1.get_name()\n"
   ]
  },
  {
   "cell_type": "code",
   "execution_count": 7,
   "metadata": {
    "collapsed": false
   },
   "outputs": [
    {
     "data": {
      "text/plain": [
       "28"
      ]
     },
     "execution_count": 7,
     "metadata": {},
     "output_type": "execute_result"
    }
   ],
   "source": [
    "p1.get_age()\n"
   ]
  },
  {
   "cell_type": "code",
   "execution_count": 8,
   "metadata": {
    "collapsed": false
   },
   "outputs": [
    {
     "data": {
      "text/plain": [
       "'Petya'"
      ]
     },
     "execution_count": 8,
     "metadata": {},
     "output_type": "execute_result"
    }
   ],
   "source": [
    "p2.get_name()\n"
   ]
  },
  {
   "cell_type": "code",
   "execution_count": 9,
   "metadata": {
    "collapsed": false
   },
   "outputs": [
    {
     "data": {
      "text/plain": [
       "29"
      ]
     },
     "execution_count": 9,
     "metadata": {},
     "output_type": "execute_result"
    }
   ],
   "source": [
    "p2.get_age()"
   ]
  },
  {
   "cell_type": "code",
   "execution_count": 11,
   "metadata": {
    "collapsed": false
   },
   "outputs": [],
   "source": [
    "'''#2) колода карт -  \n",
    "deck=CardDeck() ->создаем рандомную колоду\n",
    "deck.shuffle -> перемешиваем\n",
    "deck.pop() -> возвращаем верхнюю карту\n",
    "card.value - > 2...10  туз, валет\n",
    "card.suit() - > пики, бубны - масть карты\n",
    "\n",
    "card2 = deck.pop() - >вернул следующую карту'''\n",
    "\n",
    "\n",
    "\n",
    "import random\n",
    "CardsValue = [\"6\",\"7\",\"8\",\"9\",\"Валет\", \"Дама\", \"Король\", \"Туз\"] \n",
    "CardsName = ['\\u2665', '\\u2666', '\\u2663', '\\u2660']\n",
    "\n",
    "\n",
    "class CardsDeck:\n",
    "    \n",
    "    def __init__(self):\n",
    "        self.names = CardsName\n",
    "        self.values = CardsValue\n",
    "        self.deck = self._createdeck()\n",
    "        \n",
    "    def _createdeck(self):\n",
    "        deck = []\n",
    "        for name in self.names:\n",
    "            for value in self.values:\n",
    "              ##  print(name,value)\n",
    "                deck.append((name, value))\n",
    "        return deck\n",
    "    \n",
    "    def shuffle(self):\n",
    "        random.shuffle(self.deck)\n",
    "    \n",
    "    def get_last_card(self):\n",
    "        return self.deck.pop()\n",
    " \n",
    "    def __repr__(self):\n",
    "        return 'Колода: {}'.format(len(self.deck))"
   ]
  },
  {
   "cell_type": "code",
   "execution_count": null,
   "metadata": {
    "collapsed": true
   },
   "outputs": [],
   "source": []
  }
 ],
 "metadata": {
  "kernelspec": {
   "display_name": "Python 3",
   "language": "python",
   "name": "python3"
  },
  "language_info": {
   "codemirror_mode": {
    "name": "ipython",
    "version": 3
   },
   "file_extension": ".py",
   "mimetype": "text/x-python",
   "name": "python",
   "nbconvert_exporter": "python",
   "pygments_lexer": "ipython3",
   "version": "3.6.0"
  }
 },
 "nbformat": 4,
 "nbformat_minor": 2
}
